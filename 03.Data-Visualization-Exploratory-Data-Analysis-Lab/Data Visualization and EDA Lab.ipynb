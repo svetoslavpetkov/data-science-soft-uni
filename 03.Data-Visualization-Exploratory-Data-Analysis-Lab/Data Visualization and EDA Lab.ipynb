{
 "cells": [
  {
   "cell_type": "code",
   "execution_count": 1,
   "id": "33d2e422",
   "metadata": {},
   "outputs": [],
   "source": [
    "%matplotlib inline"
   ]
  },
  {
   "cell_type": "code",
   "execution_count": 65,
   "id": "1b1927be-b3ca-4858-93e1-83348b9b931e",
   "metadata": {},
   "outputs": [],
   "source": [
    "# Write your imports here\n",
    "import numpy as np\n",
    "import pandas as pd\n",
    "import matplotlib.pyplot as plt\n",
    "import seaborn as sns\n",
    "\n",
    "import zipfile"
   ]
  },
  {
   "cell_type": "markdown",
   "id": "0a1bacf2-619d-4a97-bf91-e791cee8ce99",
   "metadata": {},
   "source": [
    "# Data Visualization and Exploratory Data Analysis Lab\n",
    "## Visualizing and exploring data. The data mining process"
   ]
  },
  {
   "cell_type": "markdown",
   "id": "7dd6a75a-59db-4b6f-b51c-79cfbffcef45",
   "metadata": {},
   "source": [
    "In this lab, you'll get acquainted with the most streamed songs on Spotify in 2024. The dataset and its associated metadata can be found [here](https://www.kaggle.com/datasets/nelgiriyewithana/most-streamed-spotify-songs-2024). The version you'll need is provided in the `data/` folder.\n",
    "\n",
    "You know the drill. Do what you can / want / need to answer the questions to the best of your ability. Answers do not need to be trivial, or even the same among different people."
   ]
  },
  {
   "cell_type": "code",
   "execution_count": 17,
   "id": "4ce5be9c",
   "metadata": {},
   "outputs": [],
   "source": [
    "def to_snake_case(input: str, separator = ' '):\n",
    "  if(type(input) != str):\n",
    "    return input\n",
    "  stripped_input = input.strip()\n",
    "  split_values = [ val.strip().lower() for val in stripped_input.split(separator) if len(val.strip()) > 0]\n",
    "  if (len(split_values) == 1):\n",
    "    return split_values[0]\n",
    "  return '_'.join(split_values)"
   ]
  },
  {
   "cell_type": "markdown",
   "id": "b8cfbf65-857c-464e-98df-b6425b0b571d",
   "metadata": {},
   "source": [
    "### Problem 1. Read the dataset (1 point)\n",
    "Read the file without unzipping it first. You can try a different character encoding, like `unicode_escape`. Don't worry too much about weird characters."
   ]
  },
  {
   "cell_type": "code",
   "execution_count": 11,
   "id": "00d7946c-3f48-476e-8213-42d816ec1db2",
   "metadata": {},
   "outputs": [],
   "source": [
    "input_zip_file_path = 'data/spotify_most_streamed_2024.zip'\n",
    "csv_file = 'Most Streamed Spotify Songs 2024.csv'\n",
    "\n",
    "with zipfile.ZipFile(input_zip_file_path, \"r\") as z:\n",
    "    with z.open(csv_file) as file:\n",
    "        spotify_original = pd.read_csv(file, encoding = \"ISO-8859-1\")\n",
    "\n",
    "spotify_original.to_csv('data/' + csv_file, index = False) "
   ]
  },
  {
   "cell_type": "code",
   "execution_count": 12,
   "id": "7a06c1ec",
   "metadata": {},
   "outputs": [
    {
     "data": {
      "text/plain": [
       "(4600, 29)"
      ]
     },
     "execution_count": 12,
     "metadata": {},
     "output_type": "execute_result"
    }
   ],
   "source": [
    "spotify_original.shape"
   ]
  },
  {
   "cell_type": "code",
   "execution_count": 13,
   "id": "338ff51b",
   "metadata": {},
   "outputs": [
    {
     "data": {
      "text/plain": [
       "<bound method NDFrame.head of                                 Track                        Album Name  \\\n",
       "0                 MILLION DOLLAR BABY      Million Dollar Baby - Single   \n",
       "1                         Not Like Us                       Not Like Us   \n",
       "2          i like the way you kiss me        I like the way you kiss me   \n",
       "3                             Flowers                  Flowers - Single   \n",
       "4                             Houdini                           Houdini   \n",
       "...                               ...                               ...   \n",
       "4595                For the Last Time                 For the Last Time   \n",
       "4596                 Dil Meri Na Sune  Dil Meri Na Sune (From \"Genius\")   \n",
       "4597            Grace (feat. 42 Dugg)                           My Turn   \n",
       "4598              Nashe Si Chadh Gayi             November Top 10 Songs   \n",
       "4599  Me Acostumbre (feat. Bad Bunny)   Me Acostumbre (feat. Bad Bunny)   \n",
       "\n",
       "              Artist Release Date          ISRC All Time Rank  Track Score  \\\n",
       "0      Tommy Richman    4/26/2024  QM24S2402528             1        725.4   \n",
       "1     Kendrick Lamar     5/4/2024  USUG12400910             2        545.9   \n",
       "2            Artemas    3/19/2024  QZJ842400387             3        538.4   \n",
       "3        Miley Cyrus    1/12/2023  USSM12209777             4        444.9   \n",
       "4             Eminem    5/31/2024  USUG12403398             5        423.3   \n",
       "...              ...          ...           ...           ...          ...   \n",
       "4595     $uicideboy$     9/5/2017  QM8DG1703420         4,585         19.4   \n",
       "4596      Atif Aslam    7/27/2018  INT101800122         4,575         19.4   \n",
       "4597        Lil Baby    2/28/2020  USUG12000043         4,571         19.4   \n",
       "4598    Arijit Singh    11/8/2016  INY091600067         4,591         19.4   \n",
       "4599       Arcï¿½ï¿½    4/11/2017  USB271700107         4,593         19.4   \n",
       "\n",
       "     Spotify Streams Spotify Playlist Count Spotify Playlist Reach  ...  \\\n",
       "0        390,470,936                 30,716            196,631,588  ...   \n",
       "1        323,703,884                 28,113            174,597,137  ...   \n",
       "2        601,309,283                 54,331            211,607,669  ...   \n",
       "3      2,031,280,633                269,802            136,569,078  ...   \n",
       "4        107,034,922                  7,223            151,469,874  ...   \n",
       "...              ...                    ...                    ...  ...   \n",
       "4595     305,049,963                 65,770              5,103,054  ...   \n",
       "4596      52,282,360                  4,602              1,449,767  ...   \n",
       "4597     189,972,685                 72,066              6,704,802  ...   \n",
       "4598     145,467,020                 14,037              7,387,064  ...   \n",
       "4599     255,740,653                 32,138             14,066,526  ...   \n",
       "\n",
       "      SiriusXM Spins Deezer Playlist Count Deezer Playlist Reach  \\\n",
       "0                684                  62.0            17,598,718   \n",
       "1                  3                  67.0            10,422,430   \n",
       "2                536                 136.0            36,321,847   \n",
       "3              2,182                 264.0            24,684,248   \n",
       "4                  1                  82.0            17,660,624   \n",
       "...              ...                   ...                   ...   \n",
       "4595             NaN                   2.0                14,217   \n",
       "4596             NaN                   1.0                   927   \n",
       "4597             NaN                   1.0                    74   \n",
       "4598             NaN                   NaN                   NaN   \n",
       "4599             NaN                   4.0               127,479   \n",
       "\n",
       "     Amazon Playlist Count Pandora Streams Pandora Track Stations  \\\n",
       "0                    114.0      18,004,655                 22,931   \n",
       "1                    111.0       7,780,028                 28,444   \n",
       "2                    172.0       5,022,621                  5,639   \n",
       "3                    210.0     190,260,277                203,384   \n",
       "4                    105.0       4,493,884                  7,006   \n",
       "...                    ...             ...                    ...   \n",
       "4595                   NaN      20,104,066                 13,184   \n",
       "4596                   NaN             NaN                    NaN   \n",
       "4597                   6.0      84,426,740                 28,999   \n",
       "4598                   7.0       6,817,840                    NaN   \n",
       "4599                   4.0      69,006,739                 11,320   \n",
       "\n",
       "     Soundcloud Streams  Shazam Counts TIDAL Popularity Explicit Track  \n",
       "0             4,818,457      2,669,262              NaN              0  \n",
       "1             6,623,075      1,118,279              NaN              1  \n",
       "2             7,208,651      5,285,340              NaN              0  \n",
       "3                   NaN     11,822,942              NaN              0  \n",
       "4               207,179        457,017              NaN              1  \n",
       "...                 ...            ...              ...            ...  \n",
       "4595         50,633,006        656,337              NaN              1  \n",
       "4596                NaN        193,590              NaN              0  \n",
       "4597                NaN      1,135,998              NaN              1  \n",
       "4598                NaN        448,292              NaN              0  \n",
       "4599                NaN        767,006              NaN              1  \n",
       "\n",
       "[4600 rows x 29 columns]>"
      ]
     },
     "execution_count": 13,
     "metadata": {},
     "output_type": "execute_result"
    }
   ],
   "source": [
    "spotify_original.head"
   ]
  },
  {
   "cell_type": "markdown",
   "id": "84bb1876-3ab5-4d66-86f6-7e1ede99fffe",
   "metadata": {},
   "source": [
    "### Problem 2. Perform some cleaning (1 point)\n",
    "Ensure all data has been read correctly; check the data types. Give the columns better names (e.g. `all_time_rank`, `track_score`, etc.). To do so, try to use `apply()` instead of a manual mapping between old and new name. Get rid of any unnecessary ones."
   ]
  },
  {
   "cell_type": "code",
   "execution_count": 14,
   "id": "b0a8a054-a18f-42b5-8dc3-e840e816f27c",
   "metadata": {},
   "outputs": [
    {
     "data": {
      "text/plain": [
       "Index(['Track', 'Album Name', 'Artist', 'Release Date', 'ISRC',\n",
       "       'All Time Rank', 'Track Score', 'Spotify Streams',\n",
       "       'Spotify Playlist Count', 'Spotify Playlist Reach',\n",
       "       'Spotify Popularity', 'YouTube Views', 'YouTube Likes', 'TikTok Posts',\n",
       "       'TikTok Likes', 'TikTok Views', 'YouTube Playlist Reach',\n",
       "       'Apple Music Playlist Count', 'AirPlay Spins', 'SiriusXM Spins',\n",
       "       'Deezer Playlist Count', 'Deezer Playlist Reach',\n",
       "       'Amazon Playlist Count', 'Pandora Streams', 'Pandora Track Stations',\n",
       "       'Soundcloud Streams', 'Shazam Counts', 'TIDAL Popularity',\n",
       "       'Explicit Track'],\n",
       "      dtype='object')"
      ]
     },
     "execution_count": 14,
     "metadata": {},
     "output_type": "execute_result"
    }
   ],
   "source": [
    "spotify_original.columns"
   ]
  },
  {
   "cell_type": "code",
   "execution_count": 16,
   "id": "40ae05c3",
   "metadata": {},
   "outputs": [
    {
     "data": {
      "text/plain": [
       "Track                          object\n",
       "Album Name                     object\n",
       "Artist                         object\n",
       "Release Date                   object\n",
       "ISRC                           object\n",
       "All Time Rank                  object\n",
       "Track Score                   float64\n",
       "Spotify Streams                object\n",
       "Spotify Playlist Count         object\n",
       "Spotify Playlist Reach         object\n",
       "Spotify Popularity            float64\n",
       "YouTube Views                  object\n",
       "YouTube Likes                  object\n",
       "TikTok Posts                   object\n",
       "TikTok Likes                   object\n",
       "TikTok Views                   object\n",
       "YouTube Playlist Reach         object\n",
       "Apple Music Playlist Count    float64\n",
       "AirPlay Spins                  object\n",
       "SiriusXM Spins                 object\n",
       "Deezer Playlist Count         float64\n",
       "Deezer Playlist Reach          object\n",
       "Amazon Playlist Count         float64\n",
       "Pandora Streams                object\n",
       "Pandora Track Stations         object\n",
       "Soundcloud Streams             object\n",
       "Shazam Counts                  object\n",
       "TIDAL Popularity              float64\n",
       "Explicit Track                  int64\n",
       "dtype: object"
      ]
     },
     "execution_count": 16,
     "metadata": {},
     "output_type": "execute_result"
    }
   ],
   "source": [
    "spotify_original.dtypes"
   ]
  },
  {
   "cell_type": "code",
   "execution_count": 18,
   "id": "3fedd5aa",
   "metadata": {},
   "outputs": [
    {
     "data": {
      "text/plain": [
       "Index(['track', 'album_name', 'artist', 'release_date', 'isrc',\n",
       "       'all_time_rank', 'track_score', 'spotify_streams',\n",
       "       'spotify_playlist_count', 'spotify_playlist_reach',\n",
       "       'spotify_popularity', 'youtube_views', 'youtube_likes', 'tiktok_posts',\n",
       "       'tiktok_likes', 'tiktok_views', 'youtube_playlist_reach',\n",
       "       'apple_music_playlist_count', 'airplay_spins', 'siriusxm_spins',\n",
       "       'deezer_playlist_count', 'deezer_playlist_reach',\n",
       "       'amazon_playlist_count', 'pandora_streams', 'pandora_track_stations',\n",
       "       'soundcloud_streams', 'shazam_counts', 'tidal_popularity',\n",
       "       'explicit_track'],\n",
       "      dtype='object')"
      ]
     },
     "execution_count": 18,
     "metadata": {},
     "output_type": "execute_result"
    }
   ],
   "source": [
    "spotify_original.columns = spotify_original.columns.to_series().apply(to_snake_case)\n",
    "spotify_original.columns"
   ]
  },
  {
   "cell_type": "code",
   "execution_count": 19,
   "id": "e38e7892",
   "metadata": {},
   "outputs": [
    {
     "data": {
      "text/plain": [
       "track                            0\n",
       "album_name                       0\n",
       "artist                           5\n",
       "release_date                     0\n",
       "isrc                             0\n",
       "all_time_rank                    0\n",
       "track_score                      0\n",
       "spotify_streams                113\n",
       "spotify_playlist_count          70\n",
       "spotify_playlist_reach          72\n",
       "spotify_popularity             804\n",
       "youtube_views                  308\n",
       "youtube_likes                  315\n",
       "tiktok_posts                  1173\n",
       "tiktok_likes                   980\n",
       "tiktok_views                   981\n",
       "youtube_playlist_reach        1009\n",
       "apple_music_playlist_count     561\n",
       "airplay_spins                  498\n",
       "siriusxm_spins                2123\n",
       "deezer_playlist_count          921\n",
       "deezer_playlist_reach          928\n",
       "amazon_playlist_count         1055\n",
       "pandora_streams               1106\n",
       "pandora_track_stations        1268\n",
       "soundcloud_streams            3333\n",
       "shazam_counts                  577\n",
       "tidal_popularity              4600\n",
       "explicit_track                   0\n",
       "dtype: int64"
      ]
     },
     "execution_count": 19,
     "metadata": {},
     "output_type": "execute_result"
    }
   ],
   "source": [
    "spotify_original.isna().sum()"
   ]
  },
  {
   "cell_type": "markdown",
   "id": "d4bc8ae8",
   "metadata": {},
   "source": [
    "`tidal_popularity` has no data, So we do not need it."
   ]
  },
  {
   "cell_type": "code",
   "execution_count": 66,
   "id": "ad7d911d",
   "metadata": {},
   "outputs": [],
   "source": [
    "spotify_wip = spotify_original.drop('tidal_popularity', axis='columns')\n",
    "\n",
    "\n"
   ]
  },
  {
   "cell_type": "markdown",
   "id": "c1d58a77",
   "metadata": {},
   "source": [
    "We will try to analyze all other columnst using a common fucntion"
   ]
  },
  {
   "cell_type": "code",
   "execution_count": 75,
   "id": "7b165467",
   "metadata": {},
   "outputs": [
    {
     "data": {
      "text/html": [
       "<div>\n",
       "<style scoped>\n",
       "    .dataframe tbody tr th:only-of-type {\n",
       "        vertical-align: middle;\n",
       "    }\n",
       "\n",
       "    .dataframe tbody tr th {\n",
       "        vertical-align: top;\n",
       "    }\n",
       "\n",
       "    .dataframe thead th {\n",
       "        text-align: right;\n",
       "    }\n",
       "</style>\n",
       "<table border=\"1\" class=\"dataframe\">\n",
       "  <thead>\n",
       "    <tr style=\"text-align: right;\">\n",
       "      <th></th>\n",
       "      <th>index</th>\n",
       "      <th>column_name</th>\n",
       "      <th>score</th>\n",
       "      <th>na_count</th>\n",
       "      <th>float_count</th>\n",
       "      <th>can_be_converted_to_float_count</th>\n",
       "      <th>has_to_remove_commas_count</th>\n",
       "      <th>not_a_float_count</th>\n",
       "    </tr>\n",
       "  </thead>\n",
       "  <tbody>\n",
       "    <tr>\n",
       "      <th>0</th>\n",
       "      <td>5</td>\n",
       "      <td>all_time_rank</td>\n",
       "      <td>1.0</td>\n",
       "      <td>0</td>\n",
       "      <td>0</td>\n",
       "      <td>1004</td>\n",
       "      <td>3596</td>\n",
       "      <td>0</td>\n",
       "    </tr>\n",
       "    <tr>\n",
       "      <th>1</th>\n",
       "      <td>6</td>\n",
       "      <td>spotify_streams</td>\n",
       "      <td>1.0</td>\n",
       "      <td>113</td>\n",
       "      <td>0</td>\n",
       "      <td>0</td>\n",
       "      <td>4487</td>\n",
       "      <td>0</td>\n",
       "    </tr>\n",
       "    <tr>\n",
       "      <th>2</th>\n",
       "      <td>7</td>\n",
       "      <td>spotify_playlist_count</td>\n",
       "      <td>1.0</td>\n",
       "      <td>70</td>\n",
       "      <td>0</td>\n",
       "      <td>520</td>\n",
       "      <td>4010</td>\n",
       "      <td>0</td>\n",
       "    </tr>\n",
       "    <tr>\n",
       "      <th>3</th>\n",
       "      <td>8</td>\n",
       "      <td>spotify_playlist_reach</td>\n",
       "      <td>1.0</td>\n",
       "      <td>72</td>\n",
       "      <td>0</td>\n",
       "      <td>154</td>\n",
       "      <td>4374</td>\n",
       "      <td>0</td>\n",
       "    </tr>\n",
       "    <tr>\n",
       "      <th>4</th>\n",
       "      <td>9</td>\n",
       "      <td>youtube_views</td>\n",
       "      <td>1.0</td>\n",
       "      <td>308</td>\n",
       "      <td>0</td>\n",
       "      <td>1</td>\n",
       "      <td>4291</td>\n",
       "      <td>0</td>\n",
       "    </tr>\n",
       "    <tr>\n",
       "      <th>5</th>\n",
       "      <td>10</td>\n",
       "      <td>youtube_likes</td>\n",
       "      <td>1.0</td>\n",
       "      <td>315</td>\n",
       "      <td>0</td>\n",
       "      <td>17</td>\n",
       "      <td>4268</td>\n",
       "      <td>0</td>\n",
       "    </tr>\n",
       "    <tr>\n",
       "      <th>6</th>\n",
       "      <td>11</td>\n",
       "      <td>tiktok_posts</td>\n",
       "      <td>1.0</td>\n",
       "      <td>1173</td>\n",
       "      <td>0</td>\n",
       "      <td>170</td>\n",
       "      <td>3257</td>\n",
       "      <td>0</td>\n",
       "    </tr>\n",
       "    <tr>\n",
       "      <th>7</th>\n",
       "      <td>12</td>\n",
       "      <td>tiktok_likes</td>\n",
       "      <td>1.0</td>\n",
       "      <td>980</td>\n",
       "      <td>0</td>\n",
       "      <td>40</td>\n",
       "      <td>3580</td>\n",
       "      <td>0</td>\n",
       "    </tr>\n",
       "    <tr>\n",
       "      <th>8</th>\n",
       "      <td>13</td>\n",
       "      <td>tiktok_views</td>\n",
       "      <td>1.0</td>\n",
       "      <td>981</td>\n",
       "      <td>0</td>\n",
       "      <td>13</td>\n",
       "      <td>3606</td>\n",
       "      <td>0</td>\n",
       "    </tr>\n",
       "    <tr>\n",
       "      <th>9</th>\n",
       "      <td>14</td>\n",
       "      <td>youtube_playlist_reach</td>\n",
       "      <td>1.0</td>\n",
       "      <td>1009</td>\n",
       "      <td>0</td>\n",
       "      <td>41</td>\n",
       "      <td>3550</td>\n",
       "      <td>0</td>\n",
       "    </tr>\n",
       "    <tr>\n",
       "      <th>10</th>\n",
       "      <td>15</td>\n",
       "      <td>airplay_spins</td>\n",
       "      <td>1.0</td>\n",
       "      <td>498</td>\n",
       "      <td>0</td>\n",
       "      <td>1267</td>\n",
       "      <td>2835</td>\n",
       "      <td>0</td>\n",
       "    </tr>\n",
       "    <tr>\n",
       "      <th>11</th>\n",
       "      <td>16</td>\n",
       "      <td>siriusxm_spins</td>\n",
       "      <td>1.0</td>\n",
       "      <td>2123</td>\n",
       "      <td>0</td>\n",
       "      <td>2348</td>\n",
       "      <td>129</td>\n",
       "      <td>0</td>\n",
       "    </tr>\n",
       "    <tr>\n",
       "      <th>12</th>\n",
       "      <td>17</td>\n",
       "      <td>deezer_playlist_reach</td>\n",
       "      <td>1.0</td>\n",
       "      <td>928</td>\n",
       "      <td>0</td>\n",
       "      <td>109</td>\n",
       "      <td>3563</td>\n",
       "      <td>0</td>\n",
       "    </tr>\n",
       "    <tr>\n",
       "      <th>13</th>\n",
       "      <td>18</td>\n",
       "      <td>pandora_streams</td>\n",
       "      <td>1.0</td>\n",
       "      <td>1106</td>\n",
       "      <td>0</td>\n",
       "      <td>59</td>\n",
       "      <td>3435</td>\n",
       "      <td>0</td>\n",
       "    </tr>\n",
       "    <tr>\n",
       "      <th>14</th>\n",
       "      <td>19</td>\n",
       "      <td>pandora_track_stations</td>\n",
       "      <td>1.0</td>\n",
       "      <td>1268</td>\n",
       "      <td>0</td>\n",
       "      <td>742</td>\n",
       "      <td>2590</td>\n",
       "      <td>0</td>\n",
       "    </tr>\n",
       "    <tr>\n",
       "      <th>15</th>\n",
       "      <td>20</td>\n",
       "      <td>soundcloud_streams</td>\n",
       "      <td>1.0</td>\n",
       "      <td>3333</td>\n",
       "      <td>0</td>\n",
       "      <td>10</td>\n",
       "      <td>1257</td>\n",
       "      <td>0</td>\n",
       "    </tr>\n",
       "    <tr>\n",
       "      <th>16</th>\n",
       "      <td>21</td>\n",
       "      <td>shazam_counts</td>\n",
       "      <td>1.0</td>\n",
       "      <td>577</td>\n",
       "      <td>0</td>\n",
       "      <td>68</td>\n",
       "      <td>3955</td>\n",
       "      <td>0</td>\n",
       "    </tr>\n",
       "  </tbody>\n",
       "</table>\n",
       "</div>"
      ],
      "text/plain": [
       "    index             column_name  score  na_count  float_count  \\\n",
       "0       5           all_time_rank    1.0         0            0   \n",
       "1       6         spotify_streams    1.0       113            0   \n",
       "2       7  spotify_playlist_count    1.0        70            0   \n",
       "3       8  spotify_playlist_reach    1.0        72            0   \n",
       "4       9           youtube_views    1.0       308            0   \n",
       "5      10           youtube_likes    1.0       315            0   \n",
       "6      11            tiktok_posts    1.0      1173            0   \n",
       "7      12            tiktok_likes    1.0       980            0   \n",
       "8      13            tiktok_views    1.0       981            0   \n",
       "9      14  youtube_playlist_reach    1.0      1009            0   \n",
       "10     15           airplay_spins    1.0       498            0   \n",
       "11     16          siriusxm_spins    1.0      2123            0   \n",
       "12     17   deezer_playlist_reach    1.0       928            0   \n",
       "13     18         pandora_streams    1.0      1106            0   \n",
       "14     19  pandora_track_stations    1.0      1268            0   \n",
       "15     20      soundcloud_streams    1.0      3333            0   \n",
       "16     21           shazam_counts    1.0       577            0   \n",
       "\n",
       "    can_be_converted_to_float_count  has_to_remove_commas_count  \\\n",
       "0                              1004                        3596   \n",
       "1                                 0                        4487   \n",
       "2                               520                        4010   \n",
       "3                               154                        4374   \n",
       "4                                 1                        4291   \n",
       "5                                17                        4268   \n",
       "6                               170                        3257   \n",
       "7                                40                        3580   \n",
       "8                                13                        3606   \n",
       "9                                41                        3550   \n",
       "10                             1267                        2835   \n",
       "11                             2348                         129   \n",
       "12                              109                        3563   \n",
       "13                               59                        3435   \n",
       "14                              742                        2590   \n",
       "15                               10                        1257   \n",
       "16                               68                        3955   \n",
       "\n",
       "    not_a_float_count  \n",
       "0                   0  \n",
       "1                   0  \n",
       "2                   0  \n",
       "3                   0  \n",
       "4                   0  \n",
       "5                   0  \n",
       "6                   0  \n",
       "7                   0  \n",
       "8                   0  \n",
       "9                   0  \n",
       "10                  0  \n",
       "11                  0  \n",
       "12                  0  \n",
       "13                  0  \n",
       "14                  0  \n",
       "15                  0  \n",
       "16                  0  "
      ]
     },
     "execution_count": 75,
     "metadata": {},
     "output_type": "execute_result"
    }
   ],
   "source": [
    "\n",
    "\n",
    "def get_colunm_float_probability(col: pd.Series) -> (float, str):\n",
    "  if (col.dtype == float or col.dtype == pd.Float64Dtype):\n",
    "    (1.0, 'Already a float')\n",
    "  \n",
    "  na_count = 0\n",
    "  float_count = 0\n",
    "  can_be_converted_to_float_count = 0\n",
    "  has_to_remove_commas_count = 0\n",
    "  not_a_float_count = 0\n",
    "\n",
    "  not_in_use_count = 0\n",
    "\n",
    "\n",
    "  for index, value in col.items():\n",
    "    try:\n",
    "      if np.isnan(value):\n",
    "        na_count += 1\n",
    "        continue\n",
    "    except TypeError:\n",
    "      not_in_use_count+=1\n",
    "\n",
    "    if (type(value) == float):\n",
    "      float_count += 1\n",
    "      continue\n",
    "    try:\n",
    "      float(value)\n",
    "      can_be_converted_to_float_count += 1\n",
    "      continue\n",
    "    except ValueError:\n",
    "      not_in_use_count+=1\n",
    "    \n",
    "    if type(value) == str:\n",
    "      # lets try\n",
    "      try:\n",
    "        float(value.replace(',','').replace(' ', ''))\n",
    "        has_to_remove_commas_count += 1\n",
    "        continue\n",
    "      except ValueError:\n",
    "        not_in_use_count+=1\n",
    "    not_a_float_count += 1    \n",
    "    \n",
    "  probabel_float_count = float_count + can_be_converted_to_float_count + has_to_remove_commas_count\n",
    "\n",
    "  details = {\n",
    "    'na_count': na_count,\n",
    "    'float_count': float_count,\n",
    "    'can_be_converted_to_float_count': can_be_converted_to_float_count,\n",
    "    'has_to_remove_commas_count': has_to_remove_commas_count,\n",
    "    'not_a_float_count': not_a_float_count\n",
    "  }\n",
    "  if (probabel_float_count > not_a_float_count):\n",
    "    return (probabel_float_count/ probabel_float_count + not_a_float_count, details)\n",
    "  return (0, details)\n",
    "\n",
    "\n",
    "def get_possible_float_columns(df: pd.DataFrame) -> list[(str, float, str)]:\n",
    "  return [\n",
    "    (column_name, score, msg) for (column_name, (score, msg)) in\n",
    "    [(column_name, get_colunm_float_probability(df[column_name])) for column_name in list(df.columns)]]\n",
    "\n",
    "possible_float_columns = get_possible_float_columns(spotify_wip.select_dtypes(include='object'))\n",
    "\n",
    "list_of_dict = [ { 'column_name': column_name,\n",
    "                  'score': score, \n",
    "                  'na_count': details['na_count'],\n",
    "                  'float_count': details['float_count'],\n",
    "                  'can_be_converted_to_float_count': details['can_be_converted_to_float_count'],\n",
    "                  'has_to_remove_commas_count': details['has_to_remove_commas_count'],\n",
    "                  'not_a_float_count': details['not_a_float_count']   }\n",
    "                for column_name, score, details in possible_float_columns ]\n",
    "\n",
    "possible_float_df = pd.DataFrame.from_records(list_of_dict)\n",
    "\n",
    "float_df = possible_float_df[possible_float_df['score'] > 0.5]\n",
    "float_df = float_df.reset_index()\n",
    "float_df"
   ]
  },
  {
   "cell_type": "markdown",
   "id": "7760f860",
   "metadata": {},
   "source": [
    "We identify 16 columns which were identified as object, but can be converted to float. But we have to dremove the thousands spearator: `,`.\n",
    "We will apply those rules to those columns and we will force pandas to cast them as floats"
   ]
  },
  {
   "cell_type": "code",
   "execution_count": 81,
   "id": "964ecbf0",
   "metadata": {},
   "outputs": [
    {
     "name": "stdout",
     "output_type": "stream",
     "text": [
      "['all_time_rank', 'spotify_streams', 'spotify_playlist_count', 'spotify_playlist_reach', 'youtube_views', 'youtube_likes', 'tiktok_posts', 'tiktok_likes', 'tiktok_views', 'youtube_playlist_reach', 'airplay_spins', 'siriusxm_spins', 'deezer_playlist_reach', 'pandora_streams', 'pandora_track_stations', 'soundcloud_streams', 'shazam_counts']\n"
     ]
    },
    {
     "data": {
      "text/plain": [
       "track                          object\n",
       "album_name                     object\n",
       "artist                         object\n",
       "release_date                   object\n",
       "isrc                           object\n",
       "all_time_rank                 float64\n",
       "track_score                   float64\n",
       "spotify_streams               float64\n",
       "spotify_playlist_count        float64\n",
       "spotify_playlist_reach        float64\n",
       "spotify_popularity            float64\n",
       "youtube_views                 float64\n",
       "youtube_likes                 float64\n",
       "tiktok_posts                  float64\n",
       "tiktok_likes                  float64\n",
       "tiktok_views                  float64\n",
       "youtube_playlist_reach        float64\n",
       "apple_music_playlist_count    float64\n",
       "airplay_spins                 float64\n",
       "siriusxm_spins                float64\n",
       "deezer_playlist_count         float64\n",
       "deezer_playlist_reach         float64\n",
       "amazon_playlist_count         float64\n",
       "pandora_streams               float64\n",
       "pandora_track_stations        float64\n",
       "soundcloud_streams            float64\n",
       "shazam_counts                 float64\n",
       "explicit_track                  int64\n",
       "dtype: object"
      ]
     },
     "execution_count": 81,
     "metadata": {},
     "output_type": "execute_result"
    }
   ],
   "source": [
    "float_columns_to_manipulate = [ value for _, value in float_df['column_name'].items()]\n",
    "print(float_columns_to_manipulate)\n",
    "\n",
    "for column_name in float_columns_to_manipulate:\n",
    "  spotify_wip[column_name] = spotify_wip[column_name].apply(lambda x: x.replace(\",\", \"\") if isinstance(x, str) else x)\n",
    "\n",
    "spotify_wip[float_columns_to_manipulate] = spotify_wip[float_columns_to_manipulate].astype(float)\n",
    "\n",
    "spotify_wip.dtypes"
   ]
  },
  {
   "cell_type": "markdown",
   "id": "0ae40d8d-4831-484d-a464-dda392703366",
   "metadata": {},
   "source": [
    "### Problem 3. Most productive artists (1 point)\n",
    "Who are the five artists with the most songs in the dataset?\n",
    "\n",
    "Who are the five \"clean-mouthed\" artists (i.e., with no explicit songs)? **Note:** We're not going into details but we can start a discussion about whether a song needs swearing to be popular."
   ]
  },
  {
   "cell_type": "code",
   "execution_count": 85,
   "id": "49d45c5d-ae65-4324-b869-c5075667f690",
   "metadata": {},
   "outputs": [
    {
     "data": {
      "text/plain": [
       "artist\n",
       "Drake           63\n",
       "Taylor Swift    63\n",
       "Bad Bunny       60\n",
       "KAROL G         32\n",
       "The Weeknd      31\n",
       "dtype: int64"
      ]
     },
     "execution_count": 85,
     "metadata": {},
     "output_type": "execute_result"
    }
   ],
   "source": [
    "spotify_wip.groupby('artist').size().sort_values(ascending = False)[0:5]"
   ]
  },
  {
   "cell_type": "code",
   "execution_count": 92,
   "id": "ff1c73c0",
   "metadata": {},
   "outputs": [
    {
     "data": {
      "text/plain": [
       "artist\n",
       "Imagine Dragons    16\n",
       "BTS                14\n",
       "Luke Combs         13\n",
       "Linkin Park        13\n",
       "Bruno Mars         12\n",
       "Name: count, dtype: int64"
      ]
     },
     "execution_count": 92,
     "metadata": {},
     "output_type": "execute_result"
    }
   ],
   "source": [
    "spotify_wip.groupby('artist').filter(lambda x: all(x['explicit_track'] == 0))['artist'].value_counts()[0:5]"
   ]
  },
  {
   "cell_type": "markdown",
   "id": "25ee2949-c7ce-4c30-8836-1fa443d245e9",
   "metadata": {},
   "source": [
    "### Problem 4. Most streamed artists (1 point)\n",
    "And who are the top five most streamed (as measured by Spotify streams) artists?"
   ]
  },
  {
   "cell_type": "code",
   "execution_count": 100,
   "id": "aeb0384d-daa4-482e-b5ff-dbe8abca0688",
   "metadata": {},
   "outputs": [
    {
     "data": {
      "image/png": "[encoded data removed]",
      "text/plain": [
       "<Figure size 640x480 with 1 Axes>"
      ]
     },
     "metadata": {},
     "output_type": "display_data"
    }
   ],
   "source": [
    "top_streamed_artists = spotify_wip.groupby('artist')['spotify_streams'].sum().sort_values(ascending=False)[0:5]\n",
    "\n",
    "plt.bar(top_streamed_artists.index, top_streamed_artists)\n",
    "plt.ylabel('spotify streams sum')\n",
    "plt.xlabel('artist')\n",
    "plt.title('The top five most Spotify streamed artists')\n",
    "plt.show()"
   ]
  },
  {
   "cell_type": "markdown",
   "id": "30fa25c3-abd4-4f04-859a-e00e781adaa8",
   "metadata": {},
   "source": [
    "### Problem 5. Songs by year and month (1 point)\n",
    "How many songs have been released each year? Present an appropriate plot. Can you explain the behavior of the plot for 2024?\n",
    "\n",
    "How about months? Is / Are there (a) popular month(s) to release music?"
   ]
  },
  {
   "cell_type": "code",
   "execution_count": null,
   "id": "6bfca544-a5b2-40b1-9678-c4dbeff75423",
   "metadata": {},
   "outputs": [],
   "source": []
  },
  {
   "cell_type": "markdown",
   "id": "d83c5535-72dc-4670-81a3-8ca244233a46",
   "metadata": {},
   "source": [
    "### Problem 6. Playlists (2 points)\n",
    "Is there any connection (correlation) between users adding a song to playlists in one service, or another? Only Spotify, Apple, Deezer, and Amazon offer the ability to add a song to a playlist. Find a way to plot all these relationships at the same time, and analyze them. Experiment with different types of correlations."
   ]
  },
  {
   "cell_type": "code",
   "execution_count": null,
   "id": "d3db5ed8-10e4-4f3d-9e20-ddc03371ba58",
   "metadata": {},
   "outputs": [],
   "source": []
  },
  {
   "cell_type": "markdown",
   "id": "e78b8307-de74-4cb4-ba61-da4e7c9fc6c6",
   "metadata": {},
   "source": [
    "### Problem 7. YouTube views and likes (1 point)\n",
    "What is the relationship between YouTube views and likes? Present an appropriate plot. \n",
    "\n",
    "What is the mean YouTube views-to-likes ratio? What is its distribution? Find a way to plot it and describe it."
   ]
  },
  {
   "cell_type": "code",
   "execution_count": null,
   "id": "bf3c3dd5-7466-4dec-9fc3-14a5690da4b4",
   "metadata": {},
   "outputs": [],
   "source": []
  },
  {
   "cell_type": "markdown",
   "id": "7fc028b8-362f-4d5e-9958-72ed876f83fc",
   "metadata": {},
   "source": [
    "### Problem 8. TikTok stuff (2 points)\n",
    "The most popular songs on TikTok released every year show... interesting behavior. Which years peaked the most TikTok views? Show an appropriate chart. Can you explain this behavior? For a bit of context, TikTok was created in 2016.\n",
    "\n",
    "Now, how much popular is the most popular song for each release year, than the mean popularity? Analyze the results.\n",
    "\n",
    "In both parts, it would be helpful to see the actual songs."
   ]
  },
  {
   "cell_type": "code",
   "execution_count": null,
   "id": "3ecec32f-7ddb-449d-9b69-8157705cc319",
   "metadata": {},
   "outputs": [],
   "source": []
  },
  {
   "cell_type": "markdown",
   "id": "d6d06ba6-54fe-4514-b9f3-50b5ac541b50",
   "metadata": {},
   "source": [
    "### * Problem 9. Explore (and clean) at will\n",
    "There is a lot to look for here. For example, you can easily link a song to its genres, and lyrics. You may also try to link artists and albums to more info about them. Or you can compare and contrast a song's performance across different platforms, in a similar manner to what you already did above; maybe even assign a better song ranking system (across platforms with different popularity metrics, and different requirements) than the one provided in the dataset."
   ]
  },
  {
   "cell_type": "code",
   "execution_count": null,
   "id": "844a9811-c034-4bcf-96c4-8b69f743a330",
   "metadata": {},
   "outputs": [],
   "source": []
  }
 ],
 "metadata": {
  "kernelspec": {
   "display_name": "Python 3 (ipykernel)",
   "language": "python",
   "name": "python3"
  },
  "language_info": {
   "codemirror_mode": {
    "name": "ipython",
    "version": 3
   },
   "file_extension": ".py",
   "mimetype": "text/x-python",
   "name": "python",
   "nbconvert_exporter": "python",
   "pygments_lexer": "ipython3",
   "version": "3.11.7"
  }
 },
 "nbformat": 4,
 "nbformat_minor": 5
}
